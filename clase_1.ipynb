{
  "cells": [
    {
      "cell_type": "markdown",
      "metadata": {
        "id": "view-in-github",
        "colab_type": "text"
      },
      "source": [
        "<a href=\"https://colab.research.google.com/github/dlopezcaro/UnicafamProgramacionAvanzada2025/blob/main/clase_1.ipynb\" target=\"_parent\"><img src=\"https://colab.research.google.com/assets/colab-badge.svg\" alt=\"Open In Colab\"/></a>"
      ]
    },
    {
      "cell_type": "markdown",
      "source": [
        "**Introducción a Python**\n",
        "\n",
        "Programacion Avanzada\n",
        "\n",
        "Ingenieria Industrial\n",
        "\n",
        "Facultad de Ingenieria\n",
        "\n",
        "Unicafam\n",
        "\n",
        "Docente: Nicolas Mojica\n",
        "\n",
        "Estudiante: Didier Lopez Caro\n",
        "\n",
        "\n",
        "\n",
        "---\n",
        "\n"
      ],
      "metadata": {
        "id": "Yc6g122GUYoR"
      }
    },
    {
      "cell_type": "markdown",
      "source": [
        "## 1.Comentarios de codigo\n",
        "\n"
      ],
      "metadata": {
        "id": "AFGaiyM2Ukbe"
      }
    },
    {
      "cell_type": "code",
      "source": [
        "#este es un comentario de una sola linea\n",
        "print(\"Hola mundo\")"
      ],
      "metadata": {
        "colab": {
          "base_uri": "https://localhost:8080/"
        },
        "id": "Quvo-kUwUalY",
        "outputId": "c5521921-eb58-4a95-a2c0-2f60bebebc87"
      },
      "execution_count": null,
      "outputs": [
        {
          "output_type": "stream",
          "name": "stdout",
          "text": [
            "Hola mundo\n"
          ]
        }
      ]
    },
    {
      "cell_type": "code",
      "source": [
        "\"\"\"Este comentario\n",
        "es para\n",
        "varias lineas\"\"\"\n",
        "print(\"Hola mundo\")"
      ],
      "metadata": {
        "colab": {
          "base_uri": "https://localhost:8080/"
        },
        "id": "yI4T5G_TWKPI",
        "outputId": "65be5d01-affd-4cb4-d139-ee265af14e58"
      },
      "execution_count": null,
      "outputs": [
        {
          "output_type": "stream",
          "name": "stdout",
          "text": [
            "Hola mundo\n"
          ]
        }
      ]
    },
    {
      "cell_type": "markdown",
      "source": [
        "## **2. Variables**"
      ],
      "metadata": {
        "id": "Clv1K9D7bvin"
      }
    },
    {
      "cell_type": "code",
      "source": [
        "# Reglas para definir una variable\n",
        "# 1. No caracteres especiales - No espacios\n",
        "# 2. Las variables son sencibles a las MAYUSCULAS o MINUSCULAS\n",
        "# 3. Las variables se tranforman o cambian atravez del codigo\n",
        "var=\"Hola mundo\"\n",
        "print(var)"
      ],
      "metadata": {
        "id": "6K8Vd75wf245",
        "outputId": "cc3ad863-bbe0-429f-eea0-4bb088d1bb67",
        "colab": {
          "base_uri": "https://localhost:8080/"
        }
      },
      "execution_count": null,
      "outputs": [
        {
          "output_type": "stream",
          "name": "stdout",
          "text": [
            "Hola mundo\n"
          ]
        }
      ]
    },
    {
      "cell_type": "markdown",
      "source": [
        "## **3.Tipos de Datos**"
      ],
      "metadata": {
        "id": "zxLnBk2TgifV"
      }
    },
    {
      "cell_type": "code",
      "source": [
        "# Numericos\n",
        "# Enteros - Integer\n",
        "entero=42\n",
        "entero_literal=int(42)\n",
        "type(entero)\n",
        "type(entero_literal)"
      ],
      "metadata": {
        "id": "k8sB8hMPh8pL",
        "outputId": "49979870-2cd6-4b62-bc9c-e96a20acd1d5",
        "colab": {
          "base_uri": "https://localhost:8080/"
        }
      },
      "execution_count": null,
      "outputs": [
        {
          "output_type": "execute_result",
          "data": {
            "text/plain": [
              "int"
            ]
          },
          "metadata": {},
          "execution_count": 20
        }
      ]
    },
    {
      "cell_type": "code",
      "source": [
        "# Decimales - float\n",
        "decimal=3.14\n",
        "decimal_literal=float(3.14)\n",
        "type(decimal)"
      ],
      "metadata": {
        "id": "TCcf9hOFiQ5F",
        "outputId": "9cd62185-6069-4ac4-cdcb-86e05a7e0859",
        "colab": {
          "base_uri": "https://localhost:8080/"
        }
      },
      "execution_count": null,
      "outputs": [
        {
          "output_type": "execute_result",
          "data": {
            "text/plain": [
              "float"
            ]
          },
          "metadata": {},
          "execution_count": 23
        }
      ]
    },
    {
      "cell_type": "code",
      "source": [
        "# Conversion de tipo de datos\n",
        "entero_convertido=float(entero)\n",
        "print(entero_convertido)\n",
        "type(entero_convertido)"
      ],
      "metadata": {
        "id": "cnGXX--tkOJ3",
        "outputId": "f2d63ec9-1025-4a5b-8c6e-ef7507929954",
        "colab": {
          "base_uri": "https://localhost:8080/"
        }
      },
      "execution_count": null,
      "outputs": [
        {
          "output_type": "stream",
          "name": "stdout",
          "text": [
            "42.0\n"
          ]
        },
        {
          "output_type": "execute_result",
          "data": {
            "text/plain": [
              "float"
            ]
          },
          "metadata": {},
          "execution_count": 24
        }
      ]
    },
    {
      "cell_type": "code",
      "source": [
        "# valores de cadena o texto - string\n",
        "cadena_simple=\"Hola, mundo\"\n",
        "cadena_multi=\"\"\"cadena de\n",
        "varias\n",
        "lineas\"\"\""
      ],
      "metadata": {
        "id": "gRwXXC_dkri4"
      },
      "execution_count": null,
      "outputs": []
    },
    {
      "cell_type": "markdown",
      "source": [
        "## 4.Operadores aritmeticos"
      ],
      "metadata": {
        "id": "5h-gC0armyGX"
      }
    },
    {
      "cell_type": "code",
      "source": [
        "from __future__ import division\n",
        "a=10\n",
        "b=5\n",
        "# suma\n",
        "print(a+b)\n",
        "# Resta\n",
        "print(a-b)\n",
        "# Multiplicacion\n",
        "print(a*b)\n",
        "# Division\n",
        "print(a/b)\n",
        "# Division entera\n",
        "print(a//b)       # // realiza division entera\n",
        "# Modulo\n",
        "print(a%b)\n"
      ],
      "metadata": {
        "id": "DyrkaMUcnTso",
        "outputId": "33dab02e-bc04-4f1a-ca27-156778da5e26",
        "colab": {
          "base_uri": "https://localhost:8080/"
        }
      },
      "execution_count": null,
      "outputs": [
        {
          "output_type": "stream",
          "name": "stdout",
          "text": [
            "15\n",
            "5\n",
            "50\n",
            "2.0\n",
            "2\n",
            "0\n"
          ]
        }
      ]
    },
    {
      "cell_type": "markdown",
      "source": [],
      "metadata": {
        "id": "dKXRRuWPmwFH"
      }
    }
  ],
  "metadata": {
    "colab": {
      "toc_visible": true,
      "provenance": [],
      "include_colab_link": true
    },
    "kernelspec": {
      "display_name": "Python 3",
      "name": "python3"
    }
  },
  "nbformat": 4,
  "nbformat_minor": 0
}